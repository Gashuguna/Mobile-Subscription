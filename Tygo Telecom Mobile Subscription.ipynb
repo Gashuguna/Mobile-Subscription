{
 "cells": [
  {
   "cell_type": "code",
   "execution_count": 1,
   "metadata": {},
   "outputs": [],
   "source": [
    "#Create a dictionary of input data.\n",
    "\n",
    "mobile_sub = {'minutes_used': 200, 'minutes_included':200,\n",
    "              'texts_used':300, 'texts_included':200,\n",
    "               'monthly_plan':10, 'costperminute': 0.3, 'cost_per_sms':0.001,\n",
    "               'vat_tax':0.14}"
   ]
  },
  {
   "cell_type": "code",
   "execution_count": 13,
   "metadata": {},
   "outputs": [
    {
     "name": "stdout",
     "output_type": "stream",
     "text": [
      "Dear customer, you have transacted 300 messages and 200 minutes and have been charged $11.40.Kindly note that an additional VAT Tax of $1.40 has been applied.\n"
     ]
    }
   ],
   "source": [
    "# defining a function that takes in the dictionary and provides output\n",
    "\n",
    "def evaluateCharges(input_data):\n",
    "    \"\"\"\n",
    "    Receives a dictionary containing minutes_used and\n",
    "    text_used as key/value pairs and returns a string\n",
    "    describing a breakdown of the charges applied\n",
    "    based on the values received.\n",
    "    \"\"\"\n",
    "    minutes_used = input_data['minutes_used']\n",
    "    texts_used = input_data['texts_used']\n",
    "    basecharge = 10\n",
    "    \n",
    "#performing different actions based on the conditions indicated in the question.\n",
    "    if minutes_used > 200:\n",
    "        aditional_minutes = minutes_used - 200\n",
    "        basecharge = basecharge + (aditional_minutes * 0.03)\n",
    "        \n",
    "        if texts_used > 200:\n",
    "            aditional_texts = texts_used - 200\n",
    "            basecharge = basecharge + (aditional_texts * 0.001)\n",
    "        \n",
    "    VAT_TAX = basecharge * 0.14\n",
    "    basecharge += VAT_TAX\n",
    "    \n",
    "    finalCharges =  \"{:.2f}\".format(basecharge)\n",
    "    \n",
    "#used formatted string literals to provide a concise and convinient way\n",
    "#to embed python expressions inside string literals for formatting.\n",
    "#Alternatively you can create a dictionary and print the output.\n",
    "\n",
    "    output_string = (\n",
    "        f\"Dear customer, you have transacted {texts_used} \" +\n",
    "        f\"messages and {minutes_used} minutes and have been charged ${finalCharges}.\" +\n",
    "        f\"Kindly note that an additional VAT Tax of ${'{:.2f}'.format(VAT_TAX)} has been applied.\"\n",
    "    )\n",
    "    \n",
    "    \n",
    "    return output_string\n",
    "        \n",
    "        \n",
    "print(evaluateCharges(mobile_sub))"
   ]
  }
 ],
 "metadata": {
  "kernelspec": {
   "display_name": "Python 3",
   "language": "python",
   "name": "python3"
  },
  "language_info": {
   "codemirror_mode": {
    "name": "ipython",
    "version": 3
   },
   "file_extension": ".py",
   "mimetype": "text/x-python",
   "name": "python",
   "nbconvert_exporter": "python",
   "pygments_lexer": "ipython3",
   "version": "3.7.6"
  }
 },
 "nbformat": 4,
 "nbformat_minor": 4
}
